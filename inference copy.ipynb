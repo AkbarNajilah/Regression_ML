{
 "cells": [
  {
   "cell_type": "code",
   "execution_count": 2,
   "metadata": {},
   "outputs": [
    {
     "name": "stdout",
     "output_type": "stream",
     "text": [
      "Predicted Flight Price: ₹8870.24\n"
     ]
    }
   ],
   "source": [
    "import pandas as pd\n",
    "import joblib\n",
    "\n",
    "# Example of new data for prediction\n",
    "new_data = pd.DataFrame({\n",
    "    'airline': ['SpiceJet'],\n",
    "    'source_city': ['Delhi'],\n",
    "    'destination_city': ['Mumbai'],\n",
    "    'class': ['Economy'],\n",
    "    'departure_time': ['Evening'],\n",
    "    'arrival_time': ['Night'],\n",
    "    'stops': ['zero'],\n",
    "    'duration': [2.17],\n",
    "    'days_left': [1]\n",
    "})\n",
    "\n",
    "# Load the saved pipeline\n",
    "loaded_pipeline = joblib.load('best_model_pipeline_tuned.pkl')\n",
    "\n",
    "# Predict flight price\n",
    "predicted_price = loaded_pipeline.predict(new_data)\n",
    "print(f\"Predicted Flight Price: ₹{predicted_price[0]:.2f}\")\n"
   ]
  }
 ],
 "metadata": {
  "kernelspec": {
   "display_name": "base",
   "language": "python",
   "name": "python3"
  },
  "language_info": {
   "codemirror_mode": {
    "name": "ipython",
    "version": 3
   },
   "file_extension": ".py",
   "mimetype": "text/x-python",
   "name": "python",
   "nbconvert_exporter": "python",
   "pygments_lexer": "ipython3",
   "version": "3.12.2"
  }
 },
 "nbformat": 4,
 "nbformat_minor": 2
}
